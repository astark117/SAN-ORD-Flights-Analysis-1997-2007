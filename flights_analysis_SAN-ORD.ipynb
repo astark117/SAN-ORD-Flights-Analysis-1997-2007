{
 "cells": [
  {
   "cell_type": "markdown",
   "id": "12e98bc0",
   "metadata": {},
   "source": [
    "Importing necessary packages"
   ]
  },
  {
   "cell_type": "code",
   "execution_count": 1,
   "id": "3ab7dc8d",
   "metadata": {},
   "outputs": [],
   "source": [
    "import pandas as pd\n",
    "#removes false positive pandas warnings\n",
    "pd.options.mode.chained_assignment = None  # default='warn'\n",
    "\n",
    "import numpy as np\n",
    "import matplotlib.pyplot as plt\n",
    "import seaborn as sns\n"
   ]
  },
  {
   "cell_type": "markdown",
   "id": "749fb2c4",
   "metadata": {},
   "source": [
    "importing SQLite and connecting to flightsDB.db database"
   ]
  },
  {
   "cell_type": "code",
   "execution_count": 2,
   "id": "4e88714a",
   "metadata": {},
   "outputs": [],
   "source": [
    "#importing sqlite and opening flightsDB database\n",
    "import sqlite3 as db\n",
    "con = db.connect('flightsDB.db')\n",
    "c = con.cursor()"
   ]
  },
  {
   "cell_type": "markdown",
   "id": "9398c0cd",
   "metadata": {},
   "source": [
    "I decided to narrow my focus and analyze flights departing from and arriving to San Diego International Airport.\n",
    "(this dataframe is small enough to not cause my kernel to crash)"
   ]
  },
  {
   "cell_type": "code",
   "execution_count": 19,
   "id": "7fdddcf3",
   "metadata": {},
   "outputs": [
    {
     "name": "stdout",
     "output_type": "stream",
     "text": [
      "(43742, 24)\n"
     ]
    }
   ],
   "source": [
    "#querying all relevant data for flights departing San Diego International(SAN) and arriving at Chicago O'Hare (ORD)\n",
    "san_departures = pd.read_sql_query('''\n",
    "                                      SELECT  Year AS year,\n",
    "                                              Month AS month,\n",
    "                                              DayofMonth AS day_of_month,\n",
    "                                              DayOfWeek AS day_of_week,\n",
    "                                              DepTime AS dep_time,\n",
    "                                              CRSDepTime AS sched_dep_time,\n",
    "                                              ArrTime AS arr_time,\n",
    "                                              CRSArrTime AS sched_arr_time,\n",
    "                                              UniqueCarrier AS carrier,\n",
    "                                              FlightNum AS flight_number,\n",
    "                                              TailNum AS tail_number,\n",
    "                                              ActualElapsedTime AS actual_time,\n",
    "                                              CRSElapsedTime AS predicted_time,\n",
    "                                              AirTime AS airtime,\n",
    "                                              ArrDelay AS arrival_delay,\n",
    "                                              DepDelay AS departure_delay,\n",
    "                                              Cancelled AS cancelled,\n",
    "                                              CancellationCode AS cancellation_code,\n",
    "                                              Diverted AS diverted,\n",
    "                                              CarrierDelay AS carrier_delay,\n",
    "                                              WeatherDelay AS weather_delay,\n",
    "                                              NASDelay AS NAS_delay,\n",
    "                                              SecurityDelay AS security_delay,\n",
    "                                              LateAircraftDelay AS late_aircraft_delay                            \n",
    "                                      FROM  flights\n",
    "                                      WHERE Origin = 'SAN' \n",
    "                                            AND Dest = 'ORD'                                      \n",
    "                                    ''', con)\n",
    "\n",
    "#querying airport data\n",
    "airports = pd.read_sql_query(''' \n",
    "                                SELECT iata,\n",
    "                                        airport,\n",
    "                                        city,\n",
    "                                        state\n",
    "                                FROM airports\n",
    "                            ''', con)\n",
    "\n",
    "#querying carrier data\n",
    "carriers = pd.read_sql_query('''\n",
    "                                SELECT Code AS carrier_code,\n",
    "                                        Description AS carrier_name\n",
    "                                FROM carriers\n",
    "                            ''', con)\n",
    "\n",
    "#querying relevant plane data\n",
    "plane_data = pd.read_sql_query('''\n",
    "                                SELECT tailnum,\n",
    "                                        type,\n",
    "                                        manufacturer,\n",
    "                                        issue_date,\n",
    "                                        model,\n",
    "                                        status,\n",
    "                                        year\n",
    "                                FROM plane_data\n",
    "                                ''', con)\n",
    "\n",
    "print(san_departures.shape)"
   ]
  },
  {
   "cell_type": "markdown",
   "id": "3261dd3e",
   "metadata": {},
   "source": [
    "After dropping duplicate rows, the number of rows is identical, indicating there were no duplicate rows in the dataframe."
   ]
  },
  {
   "cell_type": "code",
   "execution_count": 158,
   "id": "85fa99fa",
   "metadata": {},
   "outputs": [
    {
     "name": "stdout",
     "output_type": "stream",
     "text": [
      "(43742, 24)\n"
     ]
    }
   ],
   "source": [
    "san_dep_clean = san_departures.drop_duplicates()\n",
    "print(san_dep_clean.shape)"
   ]
  },
  {
   "cell_type": "markdown",
   "id": "a99a90eb",
   "metadata": {},
   "source": [
    "The only columns containing null data are the cancellation_code and tail_number columns. When the  dep dataset is subset for cancellation = 1 (flight was cancelled) there are no null values for cancellation code. This shows that all the null values seen are for flights that were not cancelled and are not entry errors. \n",
    "\n",
    "Out of the cancelled flights, 18 have null values for tail numbers. This could be because the cancelled flights were never assigned to a specific plane. None of the non-cancelled flights had null values for tail numbers."
   ]
  },
  {
   "cell_type": "code",
   "execution_count": 159,
   "id": "fa3ff8ef",
   "metadata": {
    "scrolled": true
   },
   "outputs": [
    {
     "name": "stdout",
     "output_type": "stream",
     "text": [
      "year                       0\n",
      "month                      0\n",
      "day_of_month               0\n",
      "day_of_week                0\n",
      "dep_time                   0\n",
      "sched_dep_time             0\n",
      "arr_time                   0\n",
      "sched_arr_time             0\n",
      "carrier                    0\n",
      "flight_number              0\n",
      "tail_number               18\n",
      "actual_time                0\n",
      "predicted_time             0\n",
      "airtime                    0\n",
      "arrival_delay              0\n",
      "departure_delay            0\n",
      "cancelled                  0\n",
      "cancellation_code      17434\n",
      "diverted                   0\n",
      "carrier_delay              0\n",
      "weather_delay              0\n",
      "NAS_delay                  0\n",
      "security_delay             0\n",
      "late_aircraft_delay        0\n",
      "dtype: int64\n"
     ]
    }
   ],
   "source": [
    "#null data for flights\n",
    "print(san_dep_clean.isna().sum())\n"
   ]
  },
  {
   "cell_type": "code",
   "execution_count": 160,
   "id": "2c93ed57",
   "metadata": {},
   "outputs": [
    {
     "name": "stdout",
     "output_type": "stream",
     "text": [
      "(769, 24)\n"
     ]
    },
    {
     "data": {
      "image/png": "[encoded data removed]",
      "text/plain": [
       "<Figure size 432x288 with 1 Axes>"
      ]
     },
     "metadata": {
      "needs_background": "light"
     },
     "output_type": "display_data"
    }
   ],
   "source": [
    "#subsetting for cancelled departures and visualizing null data\n",
    "san_dep_cancelled = san_dep_clean[san_dep_clean['cancelled'] == 1]\n",
    "print(san_dep_cancelled.shape)\n",
    "\n",
    "san_dep_cancelled.isna().sum().plot(kind='bar')\n",
    "plt.show()\n"
   ]
  },
  {
   "cell_type": "markdown",
   "id": "58972072",
   "metadata": {},
   "source": [
    "It appears that 549 of the plane tailnumbers do not contain data. These null values are not useful to me as they will not give me any information about the make, model, and year of the plane. Therefore I will drop the null rows.\n",
    "\n",
    "549 rows of data were dropped from this dataset, leaving 4480 rows containing data on the aircraft for each tail number."
   ]
  },
  {
   "cell_type": "code",
   "execution_count": 161,
   "id": "1e0f8fbc",
   "metadata": {},
   "outputs": [
    {
     "name": "stdout",
     "output_type": "stream",
     "text": [
      "iata       0\n",
      "airport    0\n",
      "city       0\n",
      "state      0\n",
      "dtype: int64\n",
      "carrier_code    0\n",
      "carrier_name    0\n",
      "dtype: int64\n",
      "tailnum           0\n",
      "type            549\n",
      "manufacturer    549\n",
      "issue_date      549\n",
      "model           549\n",
      "status          549\n",
      "year            549\n",
      "dtype: int64\n",
      "tailnum         0\n",
      "type            0\n",
      "manufacturer    0\n",
      "issue_date      0\n",
      "model           0\n",
      "status          0\n",
      "year            0\n",
      "dtype: int64\n",
      "(5029, 7)\n",
      "(4480, 7)\n"
     ]
    }
   ],
   "source": [
    "#visualizing null data for other data tables\n",
    "print(airports.isna().sum())\n",
    "\n",
    "print(carriers.isna().sum())\n",
    "\n",
    "print(plane_data.isna().sum())\n",
    "\n",
    "\n",
    "#dropping null rows for plane_data and verifying\n",
    "plane_data_clean = plane_data.dropna()\n",
    "print(plane_data_clean.isna().sum())\n",
    "print(plane_data.shape)\n",
    "print(plane_data_clean.shape)"
   ]
  },
  {
   "cell_type": "markdown",
   "id": "e6b4cb6e",
   "metadata": {},
   "source": [
    "Many columns containing numeric data currently are an object data type which is restricting the ability to perform aggregate analysis on them and using excess system memory. I will convert them to float datatypes, starting by converting 'NA' text to 0. Then converting the object dtype to a string and then to a float."
   ]
  },
  {
   "cell_type": "code",
   "execution_count": 162,
   "id": "53c0e2a6",
   "metadata": {
    "scrolled": false
   },
   "outputs": [
    {
     "name": "stdout",
     "output_type": "stream",
     "text": [
      "year                     int64\n",
      "month                    int64\n",
      "day_of_month             int64\n",
      "day_of_week              int64\n",
      "dep_time                object\n",
      "sched_dep_time           int64\n",
      "arr_time                object\n",
      "sched_arr_time           int64\n",
      "carrier                 object\n",
      "flight_number            int64\n",
      "tail_number             object\n",
      "actual_time            float64\n",
      "predicted_time         float64\n",
      "airtime                float64\n",
      "arrival_delay          float64\n",
      "departure_delay        float64\n",
      "cancelled                int64\n",
      "cancellation_code       object\n",
      "diverted                 int64\n",
      "carrier_delay          float64\n",
      "weather_delay          float64\n",
      "NAS_delay              float64\n",
      "security_delay         float64\n",
      "late_aircraft_delay    float64\n",
      "dtype: object\n"
     ]
    }
   ],
   "source": [
    "#replacing NA values with 0s and converting numeric object datatypes to float\n",
    "convert_to_float_columns = ['actual_time', 'predicted_time', 'airtime', 'arrival_delay', 'departure_delay',\\\n",
    "                          'carrier_delay', 'weather_delay', 'NAS_delay', 'security_delay', 'late_aircraft_delay']\n",
    "\n",
    "for i in convert_to_float_columns:\n",
    "    san_dep_clean[i] = san_dep_clean[i].replace('NA', 0)\n",
    "    san_dep_clean[i] = san_dep_clean[i].astype(str).astype(float)\n",
    "\n",
    "\n",
    "print(san_dep_clean.dtypes)"
   ]
  },
  {
   "cell_type": "markdown",
   "id": "014e5580",
   "metadata": {},
   "source": [
    "Creating a new timestamp column for departure time, arrival time, sched_arr_time, and sched_dep_time. \n"
   ]
  },
  {
   "cell_type": "code",
   "execution_count": 163,
   "id": "564ac3f8",
   "metadata": {
    "scrolled": false
   },
   "outputs": [
    {
     "name": "stdout",
     "output_type": "stream",
     "text": [
      "year                            int64\n",
      "month                           int64\n",
      "day_of_month                    int64\n",
      "day_of_week                     int64\n",
      "carrier                        object\n",
      "flight_number                   int64\n",
      "tail_number                    object\n",
      "actual_time                   float64\n",
      "predicted_time                float64\n",
      "airtime                       float64\n",
      "arrival_delay                 float64\n",
      "departure_delay               float64\n",
      "cancelled                       int64\n",
      "cancellation_code              object\n",
      "diverted                        int64\n",
      "carrier_delay                 float64\n",
      "weather_delay                 float64\n",
      "NAS_delay                     float64\n",
      "security_delay                float64\n",
      "late_aircraft_delay           float64\n",
      "date                   datetime64[ns]\n",
      "dep_dt                 datetime64[ns]\n",
      "arr_dt                 datetime64[ns]\n",
      "sched_arr_dt           datetime64[ns]\n",
      "sched_dep_dt           datetime64[ns]\n",
      "dtype: object\n",
      "year                       0\n",
      "month                      0\n",
      "day_of_month               0\n",
      "day_of_week                0\n",
      "carrier                    0\n",
      "flight_number              0\n",
      "tail_number               18\n",
      "actual_time                0\n",
      "predicted_time             0\n",
      "airtime                    0\n",
      "arrival_delay              0\n",
      "departure_delay            0\n",
      "cancelled                  0\n",
      "cancellation_code      17434\n",
      "diverted                   0\n",
      "carrier_delay              0\n",
      "weather_delay              0\n",
      "NAS_delay                  0\n",
      "security_delay             0\n",
      "late_aircraft_delay        0\n",
      "date                       0\n",
      "dep_dt                     0\n",
      "arr_dt                     0\n",
      "sched_arr_dt               0\n",
      "sched_dep_dt               0\n",
      "dtype: int64\n"
     ]
    }
   ],
   "source": [
    "#converting timestamp columns to strings\n",
    "col_to_timestamp = ['year', 'month', 'day_of_month', 'dep_time', 'arr_time', 'sched_arr_time', 'sched_dep_time']\n",
    "for i in col_to_timestamp:\n",
    "    san_dep_clean[i] = san_dep_clean[i].astype(str)\n",
    "\n",
    "#function to add colon between hrs and mins for time columns\n",
    "def insert_colon_hrs_mins(string):\n",
    "        if len(string) == 3:\n",
    "            return ('0' + string[:1] + ':' + string[1:])\n",
    "        elif string == '2400':\n",
    "            return '23:59'\n",
    "        elif len(string) == 4:\n",
    "            return (string[:2] + ':' + string[2:])\n",
    "        else:\n",
    "            return '0:00'\n",
    "\n",
    "#looping function over time columns in datasets to apply the insert colon function to each time value in the datasets\n",
    "time_columns = ['dep_time', 'arr_time', 'sched_arr_time', 'sched_dep_time']\n",
    "for i in time_columns:\n",
    "    san_dep_clean[i] = san_dep_clean[i].apply(lambda x: insert_colon_hrs_mins(x))\n",
    "                                              \n",
    "\n",
    "#concatenating strings for new datetime columns in YYYY-MM-DD hh:mm format\n",
    "dataframes = [san_dep_clean]\n",
    "for i in dataframes:\n",
    "    i['date'] = i['year'] + '-' + i['month'] + '-' + i['day_of_month']\n",
    "    i['dep_dt'] = i['year'] + '-' + i['month'] + '-' + i['day_of_month'] + ' ' + i['dep_time']\n",
    "    i['arr_dt'] = i['year'] + '-' + i['month'] + '-' + i['day_of_month'] + ' ' + i['arr_time']\n",
    "    i['sched_arr_dt'] =  i['year'] + '-' + i['month'] + '-' + i['day_of_month'] + ' ' + i['sched_arr_time']\n",
    "    i['sched_dep_dt'] =  i['year'] + '-' + i['month'] + '-' + i['day_of_month'] + ' ' + i['sched_dep_time']\n",
    "\n",
    "#converting new datetime columns from strings to datetime data type\n",
    "from datetime import datetime\n",
    "dt_columns = ['date', 'dep_dt', 'arr_dt', 'sched_arr_dt', 'sched_dep_dt']\n",
    "for i in dt_columns:\n",
    "    san_dep_clean[i] = pd.to_datetime(san_dep_clean[i], errors='raise')\n",
    "        \n",
    "#optimizing datatypes for faster analysis by converting applicable objects to int and dropping redundant columns\n",
    "to_int = ['year', 'month', 'day_of_month']\n",
    "to_drop = ['dep_time', 'sched_dep_time', 'arr_time', 'sched_arr_time']\n",
    "\n",
    "for x in to_int:\n",
    "    san_dep_clean[x] = san_dep_clean[x].astype(int)\n",
    "for v in to_drop:\n",
    "    san_dep_clean = san_dep_clean.drop(v, axis='columns')\n",
    "print(san_dep_clean.dtypes)\n",
    "\n",
    "print(san_dep_clean.isna().sum())\n"
   ]
  },
  {
   "cell_type": "markdown",
   "id": "980b5700",
   "metadata": {},
   "source": [
    "Now that all of the SAN data has been cleaned and data types are correct, exploration can begin!"
   ]
  },
  {
   "cell_type": "markdown",
   "id": "e21565a9",
   "metadata": {},
   "source": [
    "Number of departures and arrivals track very closely with very little deviation from each oter. There appears to be an annual oscillation in the data, hinting at some seasonality trends. There isn't a significant trend in flights over time for this particular route.\n",
    "\n",
    "Slicing the dataset for 2001-01-01 to 2002-01-01 we can see that this decline occured during September 2001. This may be due to heightened anxiety about flying after the terrorist attack on 9/11/2001.\n"
   ]
  },
  {
   "cell_type": "code",
   "execution_count": 164,
   "id": "8cb7beec",
   "metadata": {},
   "outputs": [
    {
     "data": {
      "image/png": "[encoded data removed]",
      "text/plain": [
       "<Figure size 432x288 with 1 Axes>"
      ]
     },
     "metadata": {
      "needs_background": "light"
     },
     "output_type": "display_data"
    },
    {
     "data": {
      "image/png": "[encoded data removed]",
      "text/plain": [
       "<Figure size 432x288 with 1 Axes>"
      ]
     },
     "metadata": {
      "needs_background": "light"
     },
     "output_type": "display_data"
    }
   ],
   "source": [
    "#counting flights per day\n",
    "dep_by_year = san_dep_clean.groupby('date').count()\n",
    "\n",
    "#visualizing flights per day data\n",
    "fig, ax = plt.subplots()\n",
    "ax.plot(dep_by_year.index, dep_by_year['year'])\n",
    "ax.set_ylabel(\"Number of departures\")\n",
    "ax.set_xlabel('Year')\n",
    "ax.set_title(\"Daily flights SAN-ORD 1997-2007\")\n",
    "plt.show()\n",
    "\n",
    "#slicing for 2001-2002 flights per day\n",
    "dep_by_year_slice_2001_2002 = dep_by_year.loc['2001-01-01':'2002-01-01']\n",
    "\n",
    "#visualizing 2001-2002 flights per day\n",
    "fig, ax = plt.subplots()\n",
    "ax.plot(dep_by_year_slice_2001_2002.index, dep_by_year_slice_2001_2002['year'])\n",
    "ax.set_ylabel(\"Number of departures\")\n",
    "ax.set_xlabel('Date')\n",
    "ax.set_title(\"Daily flights SAN-ORD 2001-2002\")\n",
    "plt.show()"
   ]
  },
  {
   "cell_type": "markdown",
   "id": "8da2acaa",
   "metadata": {},
   "source": [
    "Looking into cancellations and causes"
   ]
  },
  {
   "cell_type": "code",
   "execution_count": 165,
   "id": "e219fa03",
   "metadata": {},
   "outputs": [],
   "source": [
    "#creating new dataframes filtered for cancelled and diverted flights\n",
    "cancelled_flights_dep = san_dep_clean[san_dep_clean['cancelled'] == 1]\n",
    "\n",
    "\n",
    "#cancellations over time vs flights over time"
   ]
  },
  {
   "cell_type": "markdown",
   "id": "06a5a4ae",
   "metadata": {},
   "source": [
    "It is hard to draw meaningful conclusions from cancellations by reason because the majority of cancellations do not have a reason listed. "
   ]
  },
  {
   "cell_type": "code",
   "execution_count": 166,
   "id": "21ca5d7b",
   "metadata": {},
   "outputs": [
    {
     "data": {
      "image/png": "[encoded data removed]",
      "text/plain": [
       "<Figure size 432x288 with 1 Axes>"
      ]
     },
     "metadata": {
      "needs_background": "light"
     },
     "output_type": "display_data"
    }
   ],
   "source": [
    "#number of cancelled flights by code\n",
    "num_of_cancelled_dep_by_code = cancelled_flights_dep.groupby('cancellation_code')['cancelled'].count().to_frame().reset_index()\n",
    "\n",
    "#updating with cause of cancellation for each code\n",
    "cancel_codes = {'A':'carrier', 'B':'weather', 'C':'NAS', 'D':'security', 'NA':'not listed'}\n",
    "num_of_cancelled_dep_by_code['reason'] = num_of_cancelled_dep_by_code['cancellation_code'].apply(lambda x: cancel_codes[x])\n",
    "\n",
    "#visualizing cancellation by reason\n",
    "fig, ax = plt.subplots()\n",
    "ax.bar(num_of_cancelled_dep_by_code['reason'], num_of_cancelled_dep_by_code['cancelled'])\n",
    "ax.set_xlabel('Type')\n",
    "ax.set_ylabel('# of cancelled flights')\n",
    "ax.set_title('Cancelled flights SAN-ORD by reason')\n",
    "plt.show()\n"
   ]
  },
  {
   "cell_type": "markdown",
   "id": "8d14d49c",
   "metadata": {},
   "source": [
    "Only 3 airlines run direct flights between SAN and ORD. Continental Airlines has a cancellation rate twice as high as American Airlines or United Airlines cancellation rate. By avoiding Continental Airlines and flying United Airlines or American Airlines we can reduce the average flight cancellation rate between SAN and ORD by over 0.5%."
   ]
  },
  {
   "cell_type": "code",
   "execution_count": 167,
   "id": "ab516c00",
   "metadata": {},
   "outputs": [
    {
     "name": "stderr",
     "output_type": "stream",
     "text": [
      "/tmp/ipykernel_1607/3404035851.py:28: UserWarning: FixedFormatter should only be used together with FixedLocator\n",
      "  ax.set_xticklabels(percent_cancel_dep_airline['carrier_name'], rotation=90)\n"
     ]
    },
    {
     "data": {
      "image/png": "[encoded data removed]",
      "text/plain": [
       "<Figure size 432x288 with 1 Axes>"
      ]
     },
     "metadata": {
      "needs_background": "light"
     },
     "output_type": "display_data"
    }
   ],
   "source": [
    "#cancellations by airline (largest listed cause of cancellations)\n",
    "\n",
    "#calculating number of cancelled flights by carrier\n",
    "cancel_dep_by_carrier = cancelled_flights_dep.groupby('carrier')['cancelled'].count().to_frame().reset_index()\n",
    "\n",
    "#calculating total flights by carrier\n",
    "total_dep_by_carrier = san_dep_clean.groupby('carrier')['date'].count().to_frame().rename(columns={'date':'total_flights'})\\\n",
    "                        .reset_index()\n",
    "\n",
    "\n",
    "#joining total and cancelled flights by carrier\n",
    "percent_cancel_dep_carrier = cancel_dep_by_carrier.merge(total_dep_by_carrier, on='carrier')\n",
    "\n",
    "#calculating percentage column for cancellations\n",
    "percent_cancel_dep_carrier['percent_cancelled'] = percent_cancel_dep_carrier['cancelled']/\\\n",
    "                                                    percent_cancel_dep_carrier['total_flights']*100\n",
    "\n",
    "#calculating average cancelled flight percentage\n",
    "avg_percent_cancel_dep = percent_cancel_dep_carrier['percent_cancelled'].mean()\n",
    "\n",
    "#joining carrier and cancelled flights datasets and sorting by percentage of cancellations\n",
    "percent_cancel_dep_airline = percent_cancel_dep_carrier.merge(carriers, left_on='carrier', right_on='carrier_code')\\\n",
    "                        .sort_values(by=['percent_cancelled'], ascending=False)\n",
    "\n",
    "#visualizing cancellation by airline\n",
    "fig, ax = plt.subplots()\n",
    "ax.bar(percent_cancel_dep_airline['carrier_name'], percent_cancel_dep_airline['percent_cancelled'])\n",
    "ax.set_xticklabels(percent_cancel_dep_airline['carrier_name'], rotation=90)\n",
    "plt.axhline(y= avg_percent_cancel_dep, color='r', linestyle='-')\n",
    "ax.set_xlabel('Airline')\n",
    "ax.set_ylabel('% of flights cancelled')\n",
    "ax.set_title('Cancelled flights SAN-ORD by airline')\n",
    "plt.show()\n"
   ]
  },
  {
   "cell_type": "markdown",
   "id": "e6eaeb84",
   "metadata": {},
   "source": [
    "From a cancellation perspective, the best month to book the Q1 meeting would be in March. All three months in Q2 have similar cancellation rates. July or August would be the best month to book the Q3 meeting. October or November would be the best time to book the Q4 meeting."
   ]
  },
  {
   "cell_type": "code",
   "execution_count": 168,
   "id": "393f752e",
   "metadata": {},
   "outputs": [
    {
     "data": {
      "image/png": "[encoded data removed]",
      "text/plain": [
       "<Figure size 432x288 with 1 Axes>"
      ]
     },
     "metadata": {
      "needs_background": "light"
     },
     "output_type": "display_data"
    }
   ],
   "source": [
    "#cancellations grouped by month\n",
    "cancel_by_month = cancelled_flights_dep.groupby('month')['cancelled'].count().to_frame().reset_index()\n",
    "\n",
    "#total flights grouped by month\n",
    "total_by_month = san_dep_clean.groupby('month')['date'].count().to_frame().rename(columns={'date':'total_flights'})\\\n",
    "                        .reset_index()\n",
    "\n",
    "\n",
    "#joining total and cancelled flights by carrier\n",
    "percent_cancel_by_month = cancel_by_month.merge(total_by_month, on='month')\n",
    "\n",
    "#converting month from integer to text abbreviation\n",
    "import calendar\n",
    "percent_cancel_by_month['month'] = percent_cancel_by_month['month'].apply(lambda x: calendar.month_abbr[x])\n",
    "\n",
    "#calculating percentage column for cancellations\n",
    "percent_cancel_by_month['percent_cancelled'] = percent_cancel_by_month['cancelled']/\\\n",
    "                                                    percent_cancel_by_month['total_flights']*100\n",
    "\n",
    "#visualizing cancellations by month\n",
    "fig, ax = plt.subplots()\n",
    "ax.bar(percent_cancel_by_month['month'], percent_cancel_by_month['percent_cancelled'])\n",
    "ax.set_xlabel('Month')\n",
    "ax.set_ylabel('% of flights cancelled')\n",
    "ax.set_title('Cancelled flights SAN-ORD by month')\n",
    "plt.show()"
   ]
  },
  {
   "cell_type": "markdown",
   "id": "e56ca513",
   "metadata": {},
   "source": [
    "The only day of the week that shows significantly fewer cancellations is Sunday. There is a criteria that the flights have to be on weekdays, so any day of the week will face similar cancellation rates."
   ]
  },
  {
   "cell_type": "code",
   "execution_count": 169,
   "id": "442e176a",
   "metadata": {},
   "outputs": [
    {
     "data": {
      "image/png": "[encoded data removed]",
      "text/plain": [
       "<Figure size 432x288 with 1 Axes>"
      ]
     },
     "metadata": {
      "needs_background": "light"
     },
     "output_type": "display_data"
    }
   ],
   "source": [
    "#cancellations grouped by month\n",
    "cancel_by_dow = cancelled_flights_dep.groupby('day_of_week')['cancelled'].count().to_frame().reset_index()\n",
    "\n",
    "#total flights grouped by month\n",
    "total_by_dow = san_dep_clean.groupby('day_of_week')['date'].count().to_frame().rename(columns={'date':'total_flights'})\\\n",
    "                        .reset_index()\n",
    "\n",
    "\n",
    "#joining total and cancelled flights by carrier\n",
    "percent_cancel_by_dow = cancel_by_dow.merge(total_by_dow, on='day_of_week')\n",
    "\n",
    "#converting month from integer to text abbreviation\n",
    "dow_dictionary = {1:'Mon', 2:'Tues', 3:'Wed', 4:'Thur', 5:'Fri', 6:'Sat', 7:'Sun'}\n",
    "percent_cancel_by_dow['day_of_week'] = percent_cancel_by_dow['day_of_week'].apply(lambda x: dow_dictionary[x])\n",
    "\n",
    "#calculating percentage column for cancellations\n",
    "percent_cancel_by_dow['percent_cancelled'] = percent_cancel_by_dow['cancelled']/\\\n",
    "                                                    percent_cancel_by_dow['total_flights']*100\n",
    "\n",
    "#visualizing cancellation by day of the week\n",
    "fig, ax = plt.subplots()\n",
    "ax.bar(percent_cancel_by_dow['day_of_week'], percent_cancel_by_dow['percent_cancelled'])\n",
    "ax.set_xlabel('Day of Week')\n",
    "ax.set_ylabel('% of flights cancelled')\n",
    "ax.set_title('Cancelled flights SAN-ORD by day of the week')\n",
    "plt.show()"
   ]
  },
  {
   "cell_type": "code",
   "execution_count": 170,
   "id": "4f22c804",
   "metadata": {},
   "outputs": [
    {
     "ename": "TypeError",
     "evalue": "the dtypes of parameters x (object) and width (float64) are incompatible",
     "output_type": "error",
     "traceback": [
      "\u001b[0;31m---------------------------------------------------------------------------\u001b[0m",
      "\u001b[0;31mTypeError\u001b[0m                                 Traceback (most recent call last)",
      "File \u001b[0;32m~/anaconda3/lib/python3.9/site-packages/matplotlib/axes/_axes.py:2373\u001b[0m, in \u001b[0;36mAxes.bar\u001b[0;34m(self, x, height, width, bottom, align, **kwargs)\u001b[0m\n\u001b[1;32m   2372\u001b[0m \u001b[38;5;28;01mtry\u001b[39;00m:\n\u001b[0;32m-> 2373\u001b[0m     left \u001b[38;5;241m=\u001b[39m \u001b[43mx\u001b[49m\u001b[43m \u001b[49m\u001b[38;5;241;43m-\u001b[39;49m\u001b[43m \u001b[49m\u001b[43mwidth\u001b[49m\u001b[43m \u001b[49m\u001b[38;5;241;43m/\u001b[39;49m\u001b[43m \u001b[49m\u001b[38;5;241;43m2\u001b[39;49m\n\u001b[1;32m   2374\u001b[0m \u001b[38;5;28;01mexcept\u001b[39;00m \u001b[38;5;167;01mTypeError\u001b[39;00m \u001b[38;5;28;01mas\u001b[39;00m e:\n",
      "\u001b[0;31mTypeError\u001b[0m: unsupported operand type(s) for -: 'datetime.time' and 'float'",
      "\nThe above exception was the direct cause of the following exception:\n",
      "\u001b[0;31mTypeError\u001b[0m                                 Traceback (most recent call last)",
      "Input \u001b[0;32mIn [170]\u001b[0m, in \u001b[0;36m<cell line: 17>\u001b[0;34m()\u001b[0m\n\u001b[1;32m     15\u001b[0m \u001b[38;5;66;03m#visualizing cancellation by time of day\u001b[39;00m\n\u001b[1;32m     16\u001b[0m fig, ax \u001b[38;5;241m=\u001b[39m plt\u001b[38;5;241m.\u001b[39msubplots()\n\u001b[0;32m---> 17\u001b[0m \u001b[43max\u001b[49m\u001b[38;5;241;43m.\u001b[39;49m\u001b[43mbar\u001b[49m\u001b[43m(\u001b[49m\u001b[43mpercent_cancel_by_time\u001b[49m\u001b[43m[\u001b[49m\u001b[38;5;124;43m'\u001b[39;49m\u001b[38;5;124;43mdep_dt\u001b[39;49m\u001b[38;5;124;43m'\u001b[39;49m\u001b[43m]\u001b[49m\u001b[43m,\u001b[49m\u001b[43m \u001b[49m\u001b[43mpercent_cancel_by_time\u001b[49m\u001b[43m[\u001b[49m\u001b[38;5;124;43m'\u001b[39;49m\u001b[38;5;124;43mpercent_cancelled\u001b[39;49m\u001b[38;5;124;43m'\u001b[39;49m\u001b[43m]\u001b[49m\u001b[43m)\u001b[49m\n\u001b[1;32m     18\u001b[0m ax\u001b[38;5;241m.\u001b[39mset_xlabel(\u001b[38;5;124m'\u001b[39m\u001b[38;5;124mDay of Week\u001b[39m\u001b[38;5;124m'\u001b[39m)\n\u001b[1;32m     19\u001b[0m ax\u001b[38;5;241m.\u001b[39mset_ylabel(\u001b[38;5;124m'\u001b[39m\u001b[38;5;132;01m% o\u001b[39;00m\u001b[38;5;124mf flights cancelled\u001b[39m\u001b[38;5;124m'\u001b[39m)\n",
      "File \u001b[0;32m~/anaconda3/lib/python3.9/site-packages/matplotlib/__init__.py:1412\u001b[0m, in \u001b[0;36m_preprocess_data.<locals>.inner\u001b[0;34m(ax, data, *args, **kwargs)\u001b[0m\n\u001b[1;32m   1409\u001b[0m \u001b[38;5;129m@functools\u001b[39m\u001b[38;5;241m.\u001b[39mwraps(func)\n\u001b[1;32m   1410\u001b[0m \u001b[38;5;28;01mdef\u001b[39;00m \u001b[38;5;21minner\u001b[39m(ax, \u001b[38;5;241m*\u001b[39margs, data\u001b[38;5;241m=\u001b[39m\u001b[38;5;28;01mNone\u001b[39;00m, \u001b[38;5;241m*\u001b[39m\u001b[38;5;241m*\u001b[39mkwargs):\n\u001b[1;32m   1411\u001b[0m     \u001b[38;5;28;01mif\u001b[39;00m data \u001b[38;5;129;01mis\u001b[39;00m \u001b[38;5;28;01mNone\u001b[39;00m:\n\u001b[0;32m-> 1412\u001b[0m         \u001b[38;5;28;01mreturn\u001b[39;00m \u001b[43mfunc\u001b[49m\u001b[43m(\u001b[49m\u001b[43max\u001b[49m\u001b[43m,\u001b[49m\u001b[43m \u001b[49m\u001b[38;5;241;43m*\u001b[39;49m\u001b[38;5;28;43mmap\u001b[39;49m\u001b[43m(\u001b[49m\u001b[43msanitize_sequence\u001b[49m\u001b[43m,\u001b[49m\u001b[43m \u001b[49m\u001b[43margs\u001b[49m\u001b[43m)\u001b[49m\u001b[43m,\u001b[49m\u001b[43m \u001b[49m\u001b[38;5;241;43m*\u001b[39;49m\u001b[38;5;241;43m*\u001b[39;49m\u001b[43mkwargs\u001b[49m\u001b[43m)\u001b[49m\n\u001b[1;32m   1414\u001b[0m     bound \u001b[38;5;241m=\u001b[39m new_sig\u001b[38;5;241m.\u001b[39mbind(ax, \u001b[38;5;241m*\u001b[39margs, \u001b[38;5;241m*\u001b[39m\u001b[38;5;241m*\u001b[39mkwargs)\n\u001b[1;32m   1415\u001b[0m     auto_label \u001b[38;5;241m=\u001b[39m (bound\u001b[38;5;241m.\u001b[39marguments\u001b[38;5;241m.\u001b[39mget(label_namer)\n\u001b[1;32m   1416\u001b[0m                   \u001b[38;5;129;01mor\u001b[39;00m bound\u001b[38;5;241m.\u001b[39mkwargs\u001b[38;5;241m.\u001b[39mget(label_namer))\n",
      "File \u001b[0;32m~/anaconda3/lib/python3.9/site-packages/matplotlib/axes/_axes.py:2375\u001b[0m, in \u001b[0;36mAxes.bar\u001b[0;34m(self, x, height, width, bottom, align, **kwargs)\u001b[0m\n\u001b[1;32m   2373\u001b[0m         left \u001b[38;5;241m=\u001b[39m x \u001b[38;5;241m-\u001b[39m width \u001b[38;5;241m/\u001b[39m \u001b[38;5;241m2\u001b[39m\n\u001b[1;32m   2374\u001b[0m     \u001b[38;5;28;01mexcept\u001b[39;00m \u001b[38;5;167;01mTypeError\u001b[39;00m \u001b[38;5;28;01mas\u001b[39;00m e:\n\u001b[0;32m-> 2375\u001b[0m         \u001b[38;5;28;01mraise\u001b[39;00m \u001b[38;5;167;01mTypeError\u001b[39;00m(\u001b[38;5;124mf\u001b[39m\u001b[38;5;124m'\u001b[39m\u001b[38;5;124mthe dtypes of parameters x (\u001b[39m\u001b[38;5;132;01m{\u001b[39;00mx\u001b[38;5;241m.\u001b[39mdtype\u001b[38;5;132;01m}\u001b[39;00m\u001b[38;5;124m) \u001b[39m\u001b[38;5;124m'\u001b[39m\n\u001b[1;32m   2376\u001b[0m                         \u001b[38;5;124mf\u001b[39m\u001b[38;5;124m'\u001b[39m\u001b[38;5;124mand width (\u001b[39m\u001b[38;5;132;01m{\u001b[39;00mwidth\u001b[38;5;241m.\u001b[39mdtype\u001b[38;5;132;01m}\u001b[39;00m\u001b[38;5;124m) \u001b[39m\u001b[38;5;124m'\u001b[39m\n\u001b[1;32m   2377\u001b[0m                         \u001b[38;5;124mf\u001b[39m\u001b[38;5;124m'\u001b[39m\u001b[38;5;124mare incompatible\u001b[39m\u001b[38;5;124m'\u001b[39m) \u001b[38;5;28;01mfrom\u001b[39;00m \u001b[38;5;21;01me\u001b[39;00m\n\u001b[1;32m   2378\u001b[0m     bottom \u001b[38;5;241m=\u001b[39m y\n\u001b[1;32m   2379\u001b[0m \u001b[38;5;28;01melif\u001b[39;00m orientation \u001b[38;5;241m==\u001b[39m \u001b[38;5;124m'\u001b[39m\u001b[38;5;124mhorizontal\u001b[39m\u001b[38;5;124m'\u001b[39m:\n",
      "\u001b[0;31mTypeError\u001b[0m: the dtypes of parameters x (object) and width (float64) are incompatible"
     ]
    },
    {
     "data": {
      "image/png": "[encoded data removed]",
      "text/plain": [
       "<Figure size 432x288 with 1 Axes>"
      ]
     },
     "metadata": {
      "needs_background": "light"
     },
     "output_type": "display_data"
    }
   ],
   "source": [
    "#cancellations grouped by time of day\n",
    "\n",
    "cancelled_flights_dep['dep_dt'] = cancelled_flights_dep['dep_dt'].dt.round('H').dt.time\n",
    "san_dep_clean['dep_dt'] = san_dep_clean['dep_dt'].dt.round('H').dt.time\n",
    "   \n",
    "\n",
    "cancel_by_time = cancelled_flights_dep.groupby('dep_dt')['cancelled'].count().to_frame().reset_index()\n",
    "total_by_time = san_dep_clean.groupby('dep_dt')['date'].count().to_frame().rename(columns={'date':'total_flights'})\\\n",
    "                        .reset_index()\n",
    "\n",
    "percent_cancel_by_time = cancel_by_time.merge(total_by_time, on='dep_dt')\n",
    "\n",
    "percent_cancel_by_time['percent_cancelled'] = percent_cancel_by_time['cancelled']/percent_cancel_by_time['total_flights']*100\n",
    "\n",
    "#visualizing cancellation by time of day\n",
    "fig, ax = plt.subplots()\n",
    "ax.bar(percent_cancel_by_time['dep_dt'], percent_cancel_by_time['percent_cancelled'])\n",
    "ax.set_xlabel('Day of Week')\n",
    "ax.set_ylabel('% of flights cancelled')\n",
    "ax.set_title('Cancelled flights SAN-ORD by scheduled departure time')\n",
    "plt.show()"
   ]
  },
  {
   "cell_type": "code",
   "execution_count": null,
   "id": "eafc28dd",
   "metadata": {},
   "outputs": [],
   "source": [
    "#creating new dataframes filtered for only delayed flights\n",
    "delayed_flights_dep = san_dep_clean[san_dep_clean['departure_delay'] > 0]\n",
    "\n"
   ]
  },
  {
   "cell_type": "code",
   "execution_count": null,
   "id": "1b69dd4c",
   "metadata": {},
   "outputs": [],
   "source": []
  }
 ],
 "metadata": {
  "kernelspec": {
   "display_name": "Python 3 (ipykernel)",
   "language": "python",
   "name": "python3"
  },
  "language_info": {
   "codemirror_mode": {
    "name": "ipython",
    "version": 3
   },
   "file_extension": ".py",
   "mimetype": "text/x-python",
   "name": "python",
   "nbconvert_exporter": "python",
   "pygments_lexer": "ipython3",
   "version": "3.9.12"
  }
 },
 "nbformat": 4,
 "nbformat_minor": 5
}
